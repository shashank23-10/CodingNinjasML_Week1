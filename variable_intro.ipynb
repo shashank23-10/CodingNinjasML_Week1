{
 "cells": [
  {
   "cell_type": "markdown",
   "id": "b8faed1d",
   "metadata": {},
   "source": [
    "Print HelloWorld"
   ]
  },
  {
   "cell_type": "code",
   "execution_count": 1,
   "id": "f7fe16ce",
   "metadata": {},
   "outputs": [
    {
     "name": "stdout",
     "output_type": "stream",
     "text": [
      "Hello World\n"
     ]
    }
   ],
   "source": [
    "print(\"Hello World\")"
   ]
  },
  {
   "cell_type": "markdown",
   "id": "8a50c9a3",
   "metadata": {},
   "source": [
    "## Variables"
   ]
  },
  {
   "cell_type": "code",
   "execution_count": 2,
   "id": "33b6ff8c",
   "metadata": {},
   "outputs": [
    {
     "data": {
      "text/plain": [
       "30"
      ]
     },
     "execution_count": 2,
     "metadata": {},
     "output_type": "execute_result"
    }
   ],
   "source": [
    "a = 10\n",
    "b = 20 \n",
    "\n",
    "a + b"
   ]
  },
  {
   "cell_type": "markdown",
   "id": "4716dfe5",
   "metadata": {},
   "source": [
    "Why without writing Print we got 30?"
   ]
  },
  {
   "cell_type": "markdown",
   "id": "2906836f",
   "metadata": {},
   "source": [
    "It's just showing the output, i.e. the last line of the cell is the output its not what is printed. "
   ]
  },
  {
   "cell_type": "code",
   "execution_count": null,
   "id": "d2cc2afc",
   "metadata": {},
   "outputs": [],
   "source": []
  }
 ],
 "metadata": {
  "kernelspec": {
   "display_name": "Python 3 (ipykernel)",
   "language": "python",
   "name": "python3"
  },
  "language_info": {
   "codemirror_mode": {
    "name": "ipython",
    "version": 3
   },
   "file_extension": ".py",
   "mimetype": "text/x-python",
   "name": "python",
   "nbconvert_exporter": "python",
   "pygments_lexer": "ipython3",
   "version": "3.11.4"
  }
 },
 "nbformat": 4,
 "nbformat_minor": 5
}
