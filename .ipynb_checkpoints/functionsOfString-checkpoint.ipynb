{
 "cells": [
  {
   "cell_type": "markdown",
   "id": "2ae93dcb",
   "metadata": {},
   "source": [
    "## Split"
   ]
  },
  {
   "cell_type": "code",
   "execution_count": 2,
   "id": "bfd09e08",
   "metadata": {},
   "outputs": [
    {
     "name": "stdout",
     "output_type": "stream",
     "text": [
      "['My', 'name', 'is', 'Shashank']\n"
     ]
    }
   ],
   "source": [
    "str = \"My name is Shashank\"\n",
    "li = str.split()\n",
    "print(li)"
   ]
  },
  {
   "cell_type": "markdown",
   "id": "de6638a1",
   "metadata": {},
   "source": [
    "Usage of delimiter "
   ]
  },
  {
   "cell_type": "code",
   "execution_count": 4,
   "id": "f4c49c13",
   "metadata": {},
   "outputs": [
    {
     "name": "stdout",
     "output_type": "stream",
     "text": [
      "['My', ' name', ' is', ' Shashank']\n"
     ]
    }
   ],
   "source": [
    "st = \"My, name, is, Shashank\"\n",
    "li = st.split(',')\n",
    "print(li)"
   ]
  },
  {
   "cell_type": "markdown",
   "id": "44dc1102",
   "metadata": {},
   "source": [
    "## Replace "
   ]
  },
  {
   "cell_type": "code",
   "execution_count": 8,
   "id": "47f0e41a",
   "metadata": {},
   "outputs": [
    {
     "name": "stdout",
     "output_type": "stream",
     "text": [
      "My name is Rohan\n"
     ]
    }
   ],
   "source": [
    "str = str.replace(\"Shashank\", \"Rohan\")\n",
    "print(str)"
   ]
  },
  {
   "cell_type": "code",
   "execution_count": 11,
   "id": "873725a7",
   "metadata": {},
   "outputs": [
    {
     "name": "stdout",
     "output_type": "stream",
     "text": [
      "My name is Ash Ash Ash Ash\n"
     ]
    }
   ],
   "source": [
    "a = \"My name is Shashank Shashank Shashank Shashank\"\n",
    "a = a.replace(\"Shashank\", \"Ash\")\n",
    "print(a)"
   ]
  },
  {
   "cell_type": "markdown",
   "id": "ccbed0e3",
   "metadata": {},
   "source": [
    "Replacing only 2 Shashank's instead of all "
   ]
  },
  {
   "cell_type": "code",
   "execution_count": 12,
   "id": "ed6a9ebb",
   "metadata": {},
   "outputs": [
    {
     "name": "stdout",
     "output_type": "stream",
     "text": [
      "My name is Ash Ash Shashank Shashank\n"
     ]
    }
   ],
   "source": [
    "b = \"My name is Shashank Shashank Shashank Shashank\"\n",
    "b = b.replace(\"Shashank\", \"Ash\", 2)\n",
    "print(b)"
   ]
  },
  {
   "cell_type": "markdown",
   "id": "76ce1bef",
   "metadata": {},
   "source": [
    "## Find"
   ]
  },
  {
   "cell_type": "code",
   "execution_count": 13,
   "id": "fb70a471",
   "metadata": {},
   "outputs": [
    {
     "name": "stdout",
     "output_type": "stream",
     "text": [
      "11\n"
     ]
    }
   ],
   "source": [
    "s = \"My name is Shashank\"\n",
    "index = s.find(\"Sha\")\n",
    "print(index)"
   ]
  },
  {
   "cell_type": "markdown",
   "id": "08b6e6aa",
   "metadata": {},
   "source": [
    "Printing of -1 "
   ]
  },
  {
   "cell_type": "code",
   "execution_count": 14,
   "id": "d5974c1e",
   "metadata": {},
   "outputs": [
    {
     "name": "stdout",
     "output_type": "stream",
     "text": [
      "-1\n"
     ]
    }
   ],
   "source": [
    "ind = s.find('z')\n",
    "print(ind)"
   ]
  },
  {
   "cell_type": "markdown",
   "id": "0f17f200",
   "metadata": {},
   "source": [
    "## Lower and Upper"
   ]
  },
  {
   "cell_type": "code",
   "execution_count": 15,
   "id": "77dd329b",
   "metadata": {},
   "outputs": [
    {
     "name": "stdout",
     "output_type": "stream",
     "text": [
      "shashank dances\n",
      "SHASHANK DANCES\n"
     ]
    }
   ],
   "source": [
    "x = \"Shashank Dances\"\n",
    "x = x.lower()\n",
    "print(x)\n",
    "x = x.upper()\n",
    "print(x)"
   ]
  },
  {
   "cell_type": "markdown",
   "id": "bc4d9466",
   "metadata": {},
   "source": [
    "## startswith "
   ]
  },
  {
   "cell_type": "code",
   "execution_count": 17,
   "id": "d4718dff",
   "metadata": {},
   "outputs": [
    {
     "name": "stdout",
     "output_type": "stream",
     "text": [
      "True\n",
      "False\n"
     ]
    }
   ],
   "source": [
    "ans = str.startswith(\"My na\")\n",
    "print(ans)\n",
    "ans = str.startswith(\"Sha\", 11, 20)\n",
    "print(ans)"
   ]
  },
  {
   "cell_type": "code",
   "execution_count": 19,
   "id": "eb2baf67",
   "metadata": {},
   "outputs": [
    {
     "ename": "TypeError",
     "evalue": "can only concatenate str (not \"int\") to str",
     "output_type": "error",
     "traceback": [
      "\u001b[1;31m---------------------------------------------------------------------------\u001b[0m",
      "\u001b[1;31mTypeError\u001b[0m                                 Traceback (most recent call last)",
      "Cell \u001b[1;32mIn[19], line 2\u001b[0m\n\u001b[0;32m      1\u001b[0m s \u001b[38;5;241m=\u001b[39m \u001b[38;5;124m\"\u001b[39m\u001b[38;5;124mabcd\u001b[39m\u001b[38;5;124m\"\u001b[39m\n\u001b[1;32m----> 2\u001b[0m \u001b[38;5;28mprint\u001b[39m(s\u001b[38;5;241m+\u001b[39m\u001b[38;5;241m12\u001b[39m)\n",
      "\u001b[1;31mTypeError\u001b[0m: can only concatenate str (not \"int\") to str"
     ]
    }
   ],
   "source": [
    "s = \"abcd\"\n",
    "print(s+12)"
   ]
  }
 ],
 "metadata": {
  "kernelspec": {
   "display_name": "Python 3 (ipykernel)",
   "language": "python",
   "name": "python3"
  },
  "language_info": {
   "codemirror_mode": {
    "name": "ipython",
    "version": 3
   },
   "file_extension": ".py",
   "mimetype": "text/x-python",
   "name": "python",
   "nbconvert_exporter": "python",
   "pygments_lexer": "ipython3",
   "version": "3.11.4"
  }
 },
 "nbformat": 4,
 "nbformat_minor": 5
}
