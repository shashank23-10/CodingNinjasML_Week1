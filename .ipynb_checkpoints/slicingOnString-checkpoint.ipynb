{
 "cells": [
  {
   "cell_type": "code",
   "execution_count": 1,
   "id": "f71ff8f4",
   "metadata": {},
   "outputs": [],
   "source": [
    "s=\"Shashank\""
   ]
  },
  {
   "cell_type": "code",
   "execution_count": 2,
   "id": "683f4382",
   "metadata": {},
   "outputs": [
    {
     "data": {
      "text/plain": [
       "'ha'"
      ]
     },
     "execution_count": 2,
     "metadata": {},
     "output_type": "execute_result"
    }
   ],
   "source": [
    "s[1:3]"
   ]
  },
  {
   "cell_type": "code",
   "execution_count": 3,
   "id": "45273693",
   "metadata": {},
   "outputs": [
    {
     "data": {
      "text/plain": [
       "'hs'"
      ]
     },
     "execution_count": 3,
     "metadata": {},
     "output_type": "execute_result"
    }
   ],
   "source": [
    "s[1:5:2]"
   ]
  },
  {
   "cell_type": "code",
   "execution_count": 4,
   "id": "66754db5",
   "metadata": {},
   "outputs": [
    {
     "data": {
      "text/plain": [
       "'hh'"
      ]
     },
     "execution_count": 4,
     "metadata": {},
     "output_type": "execute_result"
    }
   ],
   "source": [
    "s[1:5:3]"
   ]
  },
  {
   "cell_type": "code",
   "execution_count": 5,
   "id": "33570a7b",
   "metadata": {},
   "outputs": [
    {
     "data": {
      "text/plain": [
       "'cd'"
      ]
     },
     "execution_count": 5,
     "metadata": {},
     "output_type": "execute_result"
    }
   ],
   "source": [
    "st=\"abcd\"\n",
    "st[2:]"
   ]
  },
  {
   "cell_type": "code",
   "execution_count": 9,
   "id": "8e8583a9",
   "metadata": {},
   "outputs": [
    {
     "name": "stdout",
     "output_type": "stream",
     "text": [
      "o\n"
     ]
    }
   ],
   "source": [
    "str1 = \"hello\"\n",
    "print(str1[-1:])"
   ]
  },
  {
   "cell_type": "code",
   "execution_count": 11,
   "id": "def11d52",
   "metadata": {},
   "outputs": [
    {
     "data": {
      "text/plain": [
       "'gh'"
      ]
     },
     "execution_count": 11,
     "metadata": {},
     "output_type": "execute_result"
    }
   ],
   "source": [
    "x = \"abcdefghi\"\n",
    "x[-3:-1]"
   ]
  }
 ],
 "metadata": {
  "kernelspec": {
   "display_name": "Python 3 (ipykernel)",
   "language": "python",
   "name": "python3"
  },
  "language_info": {
   "codemirror_mode": {
    "name": "ipython",
    "version": 3
   },
   "file_extension": ".py",
   "mimetype": "text/x-python",
   "name": "python",
   "nbconvert_exporter": "python",
   "pygments_lexer": "ipython3",
   "version": "3.11.4"
  }
 },
 "nbformat": 4,
 "nbformat_minor": 5
}
